{
 "cells": [
  {
   "cell_type": "code",
   "execution_count": 1,
   "id": "8d5e48e7-b4f5-4bdd-87e1-e7855331b6d9",
   "metadata": {},
   "outputs": [],
   "source": [
    "%load_ext autoreload\n",
    "%autoreload 2"
   ]
  },
  {
   "cell_type": "code",
   "execution_count": 5,
   "id": "12c762e2-dc15-4710-a507-8881fc913282",
   "metadata": {},
   "outputs": [],
   "source": [
    "# import sys, os\n",
    "# sys.path.append(os.path.abspath(\"..\"))"
   ]
  },
  {
   "cell_type": "code",
   "execution_count": 6,
   "id": "08b83980-d593-4755-8c5c-8b4df1089ba5",
   "metadata": {},
   "outputs": [],
   "source": [
    "import datasets\n",
    "from pydantic import BaseModel\n",
    "from datasets import load_dataset\n",
    "from src.utils import parse_dt, handle_dtypes"
   ]
  },
  {
   "cell_type": "code",
   "execution_count": 7,
   "id": "fe3f2e57-d6ac-4124-b14d-f99a2cad823f",
   "metadata": {},
   "outputs": [
    {
     "name": "stdout",
     "output_type": "stream",
     "text": [
      "{\"hf_dataset_path\": \"McAuley-Lab/Amazon-Reviews-2023\", \"report_sample_num_rows\": 10000, \"random_seed\": 41}\n"
     ]
    }
   ],
   "source": [
    "class Args(BaseModel):\n",
    "    hf_dataset_path: str = \"McAuley-Lab/Amazon-Reviews-2023\"\n",
    "    report_sample_num_rows: int = 10000\n",
    "    random_seed: int = 41\n",
    "args = Args()\n",
    "print(args.json())"
   ]
  },
  {
   "cell_type": "code",
   "execution_count": 8,
   "id": "fc4b89dc-d927-491a-94a1-4101d7cfe92c",
   "metadata": {},
   "outputs": [],
   "source": [
    "#meta item\n",
    "metadata = load_dataset(args.hf_dataset_path, \"raw_meta_All_Beauty\", split=\"full\", trust_remote_code=True)"
   ]
  },
  {
   "cell_type": "code",
   "execution_count": 9,
   "id": "c79e87bb-a799-4c23-880e-e054bb7f8baf",
   "metadata": {},
   "outputs": [
    {
     "data": {
      "text/plain": [
       "{'main_category': 'All Beauty',\n",
       " 'title': 'Howard LC0008 Leather Conditioner, 8-Ounce (4-Pack)',\n",
       " 'average_rating': 4.8,\n",
       " 'rating_number': 10,\n",
       " 'features': [],\n",
       " 'description': [],\n",
       " 'price': 'None',\n",
       " 'images': {'hi_res': [None,\n",
       "   'https://m.media-amazon.com/images/I/71i77AuI9xL._SL1500_.jpg'],\n",
       "  'large': ['https://m.media-amazon.com/images/I/41qfjSfqNyL.jpg',\n",
       "   'https://m.media-amazon.com/images/I/41w2yznfuZL.jpg'],\n",
       "  'thumb': ['https://m.media-amazon.com/images/I/41qfjSfqNyL._SS40_.jpg',\n",
       "   'https://m.media-amazon.com/images/I/41w2yznfuZL._SS40_.jpg'],\n",
       "  'variant': ['MAIN', 'PT01']},\n",
       " 'videos': {'title': [], 'url': [], 'user_id': []},\n",
       " 'store': 'Howard Products',\n",
       " 'categories': [],\n",
       " 'details': '{\"Package Dimensions\": \"7.1 x 5.5 x 3 inches; 2.38 Pounds\", \"UPC\": \"617390882781\"}',\n",
       " 'parent_asin': 'B01CUPMQZE',\n",
       " 'bought_together': None,\n",
       " 'subtitle': None,\n",
       " 'author': None}"
      ]
     },
     "execution_count": 9,
     "metadata": {},
     "output_type": "execute_result"
    }
   ],
   "source": [
    "metadata[0]"
   ]
  },
  {
   "cell_type": "code",
   "execution_count": 10,
   "id": "8fd5087c-e2e6-419a-be70-ffc6b37cdab1",
   "metadata": {},
   "outputs": [
    {
     "name": "stderr",
     "output_type": "stream",
     "text": [
      "/mnt/d/Nhi/E-commerce-recsys/.venv/lib/python3.11/site-packages/datasets/load.py:1429: FutureWarning: The repository for McAuley-Lab/Amazon-Reviews-2023 contains custom code which must be executed to correctly load the dataset. You can inspect the repository content at https://hf.co/datasets/McAuley-Lab/Amazon-Reviews-2023\n",
      "You can avoid this message in future by passing the argument `trust_remote_code=True`.\n",
      "Passing `trust_remote_code=True` will be mandatory to load this dataset from the next major release of `datasets`.\n",
      "  warnings.warn(\n"
     ]
    }
   ],
   "source": [
    "#User-item interaction (review/rating)\n",
    "dataset = load_dataset(\n",
    "    args.hf_dataset_path, name=\"5core_timestamp_All_Beauty\"\n",
    ")"
   ]
  },
  {
   "cell_type": "code",
   "execution_count": 11,
   "id": "0fc87147-fba7-4f0b-bf55-d179230755fb",
   "metadata": {},
   "outputs": [
    {
     "data": {
      "text/plain": [
       "DatasetDict({\n",
       "    train: Dataset({\n",
       "        features: ['user_id', 'parent_asin', 'rating', 'timestamp'],\n",
       "        num_rows: 2237\n",
       "    })\n",
       "    valid: Dataset({\n",
       "        features: ['user_id', 'parent_asin', 'rating', 'timestamp'],\n",
       "        num_rows: 276\n",
       "    })\n",
       "    test: Dataset({\n",
       "        features: ['user_id', 'parent_asin', 'rating', 'timestamp'],\n",
       "        num_rows: 22\n",
       "    })\n",
       "})"
      ]
     },
     "execution_count": 11,
     "metadata": {},
     "output_type": "execute_result"
    }
   ],
   "source": [
    "dataset"
   ]
  },
  {
   "cell_type": "code",
   "execution_count": 12,
   "id": "fc64874c-b860-4bd9-8ce8-2f8e167b4a3d",
   "metadata": {},
   "outputs": [
    {
     "data": {
      "text/plain": [
       "{'user_id': 'AFSKPY37N3C43SOI5IEXEK5JSIYA',\n",
       " 'parent_asin': 'B07J3GH1W1',\n",
       " 'rating': '5.0',\n",
       " 'timestamp': '1547589356557'}"
      ]
     },
     "execution_count": 12,
     "metadata": {},
     "output_type": "execute_result"
    }
   ],
   "source": [
    "dataset['train'][0]"
   ]
  },
  {
   "cell_type": "code",
   "execution_count": 13,
   "id": "bbbbab6d-d842-429e-82d3-29c98dd09cfd",
   "metadata": {},
   "outputs": [
    {
     "data": {
      "text/html": [
       "<div>\n",
       "<style scoped>\n",
       "    .dataframe tbody tr th:only-of-type {\n",
       "        vertical-align: middle;\n",
       "    }\n",
       "\n",
       "    .dataframe tbody tr th {\n",
       "        vertical-align: top;\n",
       "    }\n",
       "\n",
       "    .dataframe thead th {\n",
       "        text-align: right;\n",
       "    }\n",
       "</style>\n",
       "<table border=\"1\" class=\"dataframe\">\n",
       "  <thead>\n",
       "    <tr style=\"text-align: right;\">\n",
       "      <th></th>\n",
       "      <th>user_id</th>\n",
       "      <th>parent_asin</th>\n",
       "      <th>rating</th>\n",
       "      <th>timestamp</th>\n",
       "    </tr>\n",
       "  </thead>\n",
       "  <tbody>\n",
       "    <tr>\n",
       "      <th>0</th>\n",
       "      <td>AFSKPY37N3C43SOI5IEXEK5JSIYA</td>\n",
       "      <td>B07J3GH1W1</td>\n",
       "      <td>5.0</td>\n",
       "      <td>1547589356557</td>\n",
       "    </tr>\n",
       "    <tr>\n",
       "      <th>1</th>\n",
       "      <td>AFSKPY37N3C43SOI5IEXEK5JSIYA</td>\n",
       "      <td>B07W397QG4</td>\n",
       "      <td>5.0</td>\n",
       "      <td>1593352422858</td>\n",
       "    </tr>\n",
       "    <tr>\n",
       "      <th>2</th>\n",
       "      <td>AFSKPY37N3C43SOI5IEXEK5JSIYA</td>\n",
       "      <td>B07KG1TWP5</td>\n",
       "      <td>5.0</td>\n",
       "      <td>1596473351088</td>\n",
       "    </tr>\n",
       "    <tr>\n",
       "      <th>3</th>\n",
       "      <td>AFSKPY37N3C43SOI5IEXEK5JSIYA</td>\n",
       "      <td>B08JTNQFZY</td>\n",
       "      <td>5.0</td>\n",
       "      <td>1617904219785</td>\n",
       "    </tr>\n",
       "    <tr>\n",
       "      <th>4</th>\n",
       "      <td>AFSKPY37N3C43SOI5IEXEK5JSIYA</td>\n",
       "      <td>B07SLFWZKN</td>\n",
       "      <td>3.0</td>\n",
       "      <td>1619737501209</td>\n",
       "    </tr>\n",
       "  </tbody>\n",
       "</table>\n",
       "</div>"
      ],
      "text/plain": [
       "                        user_id parent_asin rating      timestamp\n",
       "0  AFSKPY37N3C43SOI5IEXEK5JSIYA  B07J3GH1W1    5.0  1547589356557\n",
       "1  AFSKPY37N3C43SOI5IEXEK5JSIYA  B07W397QG4    5.0  1593352422858\n",
       "2  AFSKPY37N3C43SOI5IEXEK5JSIYA  B07KG1TWP5    5.0  1596473351088\n",
       "3  AFSKPY37N3C43SOI5IEXEK5JSIYA  B08JTNQFZY    5.0  1617904219785\n",
       "4  AFSKPY37N3C43SOI5IEXEK5JSIYA  B07SLFWZKN    3.0  1619737501209"
      ]
     },
     "execution_count": 13,
     "metadata": {},
     "output_type": "execute_result"
    }
   ],
   "source": [
    "train_raw = dataset['train'].to_pandas()\n",
    "train_raw.head()"
   ]
  },
  {
   "cell_type": "code",
   "execution_count": 14,
   "id": "62cab373-af13-411f-be04-74fa9835a7d1",
   "metadata": {},
   "outputs": [
    {
     "data": {
      "text/html": [
       "<div>\n",
       "<style scoped>\n",
       "    .dataframe tbody tr th:only-of-type {\n",
       "        vertical-align: middle;\n",
       "    }\n",
       "\n",
       "    .dataframe tbody tr th {\n",
       "        vertical-align: top;\n",
       "    }\n",
       "\n",
       "    .dataframe thead th {\n",
       "        text-align: right;\n",
       "    }\n",
       "</style>\n",
       "<table border=\"1\" class=\"dataframe\">\n",
       "  <thead>\n",
       "    <tr style=\"text-align: right;\">\n",
       "      <th></th>\n",
       "      <th>main_category</th>\n",
       "      <th>title</th>\n",
       "      <th>average_rating</th>\n",
       "      <th>rating_number</th>\n",
       "      <th>features</th>\n",
       "      <th>description</th>\n",
       "      <th>price</th>\n",
       "      <th>images</th>\n",
       "      <th>videos</th>\n",
       "      <th>store</th>\n",
       "      <th>categories</th>\n",
       "      <th>details</th>\n",
       "      <th>parent_asin</th>\n",
       "      <th>bought_together</th>\n",
       "      <th>subtitle</th>\n",
       "      <th>author</th>\n",
       "    </tr>\n",
       "  </thead>\n",
       "  <tbody>\n",
       "    <tr>\n",
       "      <th>0</th>\n",
       "      <td>All Beauty</td>\n",
       "      <td>Howard LC0008 Leather Conditioner, 8-Ounce (4-...</td>\n",
       "      <td>4.8</td>\n",
       "      <td>10</td>\n",
       "      <td>[]</td>\n",
       "      <td>[]</td>\n",
       "      <td>None</td>\n",
       "      <td>{'hi_res': [None, 'https://m.media-amazon.com/...</td>\n",
       "      <td>{'title': [], 'url': [], 'user_id': []}</td>\n",
       "      <td>Howard Products</td>\n",
       "      <td>[]</td>\n",
       "      <td>{\"Package Dimensions\": \"7.1 x 5.5 x 3 inches; ...</td>\n",
       "      <td>B01CUPMQZE</td>\n",
       "      <td>None</td>\n",
       "      <td>None</td>\n",
       "      <td>None</td>\n",
       "    </tr>\n",
       "    <tr>\n",
       "      <th>1</th>\n",
       "      <td>All Beauty</td>\n",
       "      <td>Yes to Tomatoes Detoxifying Charcoal Cleanser ...</td>\n",
       "      <td>4.5</td>\n",
       "      <td>3</td>\n",
       "      <td>[]</td>\n",
       "      <td>[]</td>\n",
       "      <td>None</td>\n",
       "      <td>{'hi_res': ['https://m.media-amazon.com/images...</td>\n",
       "      <td>{'title': [], 'url': [], 'user_id': []}</td>\n",
       "      <td>Yes To</td>\n",
       "      <td>[]</td>\n",
       "      <td>{\"Item Form\": \"Powder\", \"Skin Type\": \"Acne Pro...</td>\n",
       "      <td>B076WQZGPM</td>\n",
       "      <td>None</td>\n",
       "      <td>None</td>\n",
       "      <td>None</td>\n",
       "    </tr>\n",
       "    <tr>\n",
       "      <th>2</th>\n",
       "      <td>All Beauty</td>\n",
       "      <td>Eye Patch Black Adult with Tie Band (6 Per Pack)</td>\n",
       "      <td>4.4</td>\n",
       "      <td>26</td>\n",
       "      <td>[]</td>\n",
       "      <td>[]</td>\n",
       "      <td>None</td>\n",
       "      <td>{'hi_res': [None, None], 'large': ['https://m....</td>\n",
       "      <td>{'title': [], 'url': [], 'user_id': []}</td>\n",
       "      <td>Levine Health Products</td>\n",
       "      <td>[]</td>\n",
       "      <td>{\"Manufacturer\": \"Levine Health Products\"}</td>\n",
       "      <td>B000B658RI</td>\n",
       "      <td>None</td>\n",
       "      <td>None</td>\n",
       "      <td>None</td>\n",
       "    </tr>\n",
       "    <tr>\n",
       "      <th>3</th>\n",
       "      <td>All Beauty</td>\n",
       "      <td>Tattoo Eyebrow Stickers, Waterproof Eyebrow, 4...</td>\n",
       "      <td>3.1</td>\n",
       "      <td>102</td>\n",
       "      <td>[]</td>\n",
       "      <td>[]</td>\n",
       "      <td>None</td>\n",
       "      <td>{'hi_res': ['https://m.media-amazon.com/images...</td>\n",
       "      <td>{'title': [], 'url': [], 'user_id': []}</td>\n",
       "      <td>Cherioll</td>\n",
       "      <td>[]</td>\n",
       "      <td>{\"Brand\": \"Cherioll\", \"Item Form\": \"Powder\", \"...</td>\n",
       "      <td>B088FKY3VD</td>\n",
       "      <td>None</td>\n",
       "      <td>None</td>\n",
       "      <td>None</td>\n",
       "    </tr>\n",
       "    <tr>\n",
       "      <th>4</th>\n",
       "      <td>All Beauty</td>\n",
       "      <td>Precision Plunger Bars for Cartridge Grips – 9...</td>\n",
       "      <td>4.3</td>\n",
       "      <td>7</td>\n",
       "      <td>[Material: 304 Stainless Steel; Brass tip, Len...</td>\n",
       "      <td>[The Precision Plunger Bars are designed to wo...</td>\n",
       "      <td>None</td>\n",
       "      <td>{'hi_res': [None], 'large': ['https://m.media-...</td>\n",
       "      <td>{'title': [], 'url': [], 'user_id': []}</td>\n",
       "      <td>Precision</td>\n",
       "      <td>[]</td>\n",
       "      <td>{\"UPC\": \"644287689178\"}</td>\n",
       "      <td>B07NGFDN6G</td>\n",
       "      <td>None</td>\n",
       "      <td>None</td>\n",
       "      <td>None</td>\n",
       "    </tr>\n",
       "  </tbody>\n",
       "</table>\n",
       "</div>"
      ],
      "text/plain": [
       "  main_category                                              title  \\\n",
       "0    All Beauty  Howard LC0008 Leather Conditioner, 8-Ounce (4-...   \n",
       "1    All Beauty  Yes to Tomatoes Detoxifying Charcoal Cleanser ...   \n",
       "2    All Beauty   Eye Patch Black Adult with Tie Band (6 Per Pack)   \n",
       "3    All Beauty  Tattoo Eyebrow Stickers, Waterproof Eyebrow, 4...   \n",
       "4    All Beauty  Precision Plunger Bars for Cartridge Grips – 9...   \n",
       "\n",
       "   average_rating  rating_number  \\\n",
       "0             4.8             10   \n",
       "1             4.5              3   \n",
       "2             4.4             26   \n",
       "3             3.1            102   \n",
       "4             4.3              7   \n",
       "\n",
       "                                            features  \\\n",
       "0                                                 []   \n",
       "1                                                 []   \n",
       "2                                                 []   \n",
       "3                                                 []   \n",
       "4  [Material: 304 Stainless Steel; Brass tip, Len...   \n",
       "\n",
       "                                         description price  \\\n",
       "0                                                 []  None   \n",
       "1                                                 []  None   \n",
       "2                                                 []  None   \n",
       "3                                                 []  None   \n",
       "4  [The Precision Plunger Bars are designed to wo...  None   \n",
       "\n",
       "                                              images  \\\n",
       "0  {'hi_res': [None, 'https://m.media-amazon.com/...   \n",
       "1  {'hi_res': ['https://m.media-amazon.com/images...   \n",
       "2  {'hi_res': [None, None], 'large': ['https://m....   \n",
       "3  {'hi_res': ['https://m.media-amazon.com/images...   \n",
       "4  {'hi_res': [None], 'large': ['https://m.media-...   \n",
       "\n",
       "                                    videos                   store categories  \\\n",
       "0  {'title': [], 'url': [], 'user_id': []}         Howard Products         []   \n",
       "1  {'title': [], 'url': [], 'user_id': []}                  Yes To         []   \n",
       "2  {'title': [], 'url': [], 'user_id': []}  Levine Health Products         []   \n",
       "3  {'title': [], 'url': [], 'user_id': []}                Cherioll         []   \n",
       "4  {'title': [], 'url': [], 'user_id': []}               Precision         []   \n",
       "\n",
       "                                             details parent_asin  \\\n",
       "0  {\"Package Dimensions\": \"7.1 x 5.5 x 3 inches; ...  B01CUPMQZE   \n",
       "1  {\"Item Form\": \"Powder\", \"Skin Type\": \"Acne Pro...  B076WQZGPM   \n",
       "2         {\"Manufacturer\": \"Levine Health Products\"}  B000B658RI   \n",
       "3  {\"Brand\": \"Cherioll\", \"Item Form\": \"Powder\", \"...  B088FKY3VD   \n",
       "4                            {\"UPC\": \"644287689178\"}  B07NGFDN6G   \n",
       "\n",
       "  bought_together subtitle author  \n",
       "0            None     None   None  \n",
       "1            None     None   None  \n",
       "2            None     None   None  \n",
       "3            None     None   None  \n",
       "4            None     None   None  "
      ]
     },
     "execution_count": 14,
     "metadata": {},
     "output_type": "execute_result"
    }
   ],
   "source": [
    "meta_raw = metadata.to_pandas()\n",
    "meta_raw.head()"
   ]
  },
  {
   "cell_type": "code",
   "execution_count": 18,
   "id": "ffd5a710-5658-41ce-875c-1909870b3b77",
   "metadata": {},
   "outputs": [
    {
     "data": {
      "text/html": [
       "<div>\n",
       "<style scoped>\n",
       "    .dataframe tbody tr th:only-of-type {\n",
       "        vertical-align: middle;\n",
       "    }\n",
       "\n",
       "    .dataframe tbody tr th {\n",
       "        vertical-align: top;\n",
       "    }\n",
       "\n",
       "    .dataframe thead th {\n",
       "        text-align: right;\n",
       "    }\n",
       "</style>\n",
       "<table border=\"1\" class=\"dataframe\">\n",
       "  <thead>\n",
       "    <tr style=\"text-align: right;\">\n",
       "      <th></th>\n",
       "      <th>user_id</th>\n",
       "      <th>parent_asin</th>\n",
       "      <th>rating</th>\n",
       "      <th>timestamp</th>\n",
       "    </tr>\n",
       "  </thead>\n",
       "  <tbody>\n",
       "    <tr>\n",
       "      <th>0</th>\n",
       "      <td>AFSKPY37N3C43SOI5IEXEK5JSIYA</td>\n",
       "      <td>B07J3GH1W1</td>\n",
       "      <td>5.0</td>\n",
       "      <td>2019-01-15 21:55:56.557</td>\n",
       "    </tr>\n",
       "    <tr>\n",
       "      <th>1</th>\n",
       "      <td>AFSKPY37N3C43SOI5IEXEK5JSIYA</td>\n",
       "      <td>B07W397QG4</td>\n",
       "      <td>5.0</td>\n",
       "      <td>2020-06-28 13:53:42.858</td>\n",
       "    </tr>\n",
       "    <tr>\n",
       "      <th>2</th>\n",
       "      <td>AFSKPY37N3C43SOI5IEXEK5JSIYA</td>\n",
       "      <td>B07KG1TWP5</td>\n",
       "      <td>5.0</td>\n",
       "      <td>2020-08-03 16:49:11.088</td>\n",
       "    </tr>\n",
       "    <tr>\n",
       "      <th>3</th>\n",
       "      <td>AFSKPY37N3C43SOI5IEXEK5JSIYA</td>\n",
       "      <td>B08JTNQFZY</td>\n",
       "      <td>5.0</td>\n",
       "      <td>2021-04-08 17:50:19.785</td>\n",
       "    </tr>\n",
       "    <tr>\n",
       "      <th>4</th>\n",
       "      <td>AFSKPY37N3C43SOI5IEXEK5JSIYA</td>\n",
       "      <td>B07SLFWZKN</td>\n",
       "      <td>3.0</td>\n",
       "      <td>2021-04-29 23:05:01.209</td>\n",
       "    </tr>\n",
       "  </tbody>\n",
       "</table>\n",
       "</div>"
      ],
      "text/plain": [
       "                        user_id parent_asin  rating               timestamp\n",
       "0  AFSKPY37N3C43SOI5IEXEK5JSIYA  B07J3GH1W1     5.0 2019-01-15 21:55:56.557\n",
       "1  AFSKPY37N3C43SOI5IEXEK5JSIYA  B07W397QG4     5.0 2020-06-28 13:53:42.858\n",
       "2  AFSKPY37N3C43SOI5IEXEK5JSIYA  B07KG1TWP5     5.0 2020-08-03 16:49:11.088\n",
       "3  AFSKPY37N3C43SOI5IEXEK5JSIYA  B08JTNQFZY     5.0 2021-04-08 17:50:19.785\n",
       "4  AFSKPY37N3C43SOI5IEXEK5JSIYA  B07SLFWZKN     3.0 2021-04-29 23:05:01.209"
      ]
     },
     "execution_count": 18,
     "metadata": {},
     "output_type": "execute_result"
    }
   ],
   "source": [
    "train_df = train_raw.pipe(parse_dt).pipe(handle_dtypes)\n",
    "train_df.head()"
   ]
  },
  {
   "cell_type": "code",
   "execution_count": null,
   "id": "98132979-b709-478a-87e1-757bda1c9994",
   "metadata": {},
   "outputs": [],
   "source": []
  },
  {
   "cell_type": "code",
   "execution_count": null,
   "id": "5a946fb2-4828-43ed-928a-33a963a7638e",
   "metadata": {},
   "outputs": [],
   "source": []
  }
 ],
 "metadata": {
  "kernelspec": {
   "display_name": "Python 3 (ipykernel)",
   "language": "python",
   "name": "python3"
  },
  "language_info": {
   "codemirror_mode": {
    "name": "ipython",
    "version": 3
   },
   "file_extension": ".py",
   "mimetype": "text/x-python",
   "name": "python",
   "nbconvert_exporter": "python",
   "pygments_lexer": "ipython3",
   "version": "3.11.9"
  }
 },
 "nbformat": 4,
 "nbformat_minor": 5
}
